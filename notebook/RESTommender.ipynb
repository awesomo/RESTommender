{
 "metadata": {
  "name": "RESTommender"
 },
 "nbformat": 3,
 "worksheets": [
  {
   "cells": [
    {
     "cell_type": "code",
     "collapsed": true,
     "input": [
      "from __future__ import division"
     ],
     "language": "python",
     "outputs": [],
     "prompt_number": 1
    },
    {
     "cell_type": "heading",
     "level": 1,
     "source": [
      "Import Movies"
     ]
    },
    {
     "cell_type": "code",
     "collapsed": false,
     "input": [
      "s = \"\"\"\\",
      "movie id | movie title | release date | video release date |",
      "              IMDb URL | unknown | Action | Adventure | Animation |",
      "              Children's | Comedy | Crime | Documentary | Drama | Fantasy |",
      "              Film-Noir | Horror | Musical | Mystery | Romance | Sci-Fi |",
      "              Thriller | War | Western\"\"\"",
      "item_columns = map(lambda x: x.strip(), s.split('|'))"
     ],
     "language": "python",
     "outputs": [],
     "prompt_number": 2
    },
    {
     "cell_type": "code",
     "collapsed": false,
     "input": [
      "import pandas",
      "items = pandas.read_csv(\"/Users/hammer/codebox/RESTommender/notebook/ml-100k/u.item\", sep=\"|\", header=None, encoding=\"iso8859_2\")",
      "items.columns = item_columns",
      "items = items.rename(columns={\"movie id\": \"item_id\"})",
      "movie_titles = items[[\"item_id\", \"movie title\"]]"
     ],
     "language": "python",
     "outputs": [],
     "prompt_number": 3
    },
    {
     "cell_type": "heading",
     "level": 1,
     "source": [
      "Import Ratings"
     ]
    },
    {
     "cell_type": "code",
     "collapsed": false,
     "input": [
      "ratings = pandas.read_csv(\"/Users/hammer/codebox/RESTommender/notebook/ml-100k/u.data\", sep=\"\\t\", header=None)",
      "ratings.columns = [\"user_id\", \"item_id\", \"rating\", \"timestamp\"]"
     ],
     "language": "python",
     "outputs": [],
     "prompt_number": 4
    },
    {
     "cell_type": "heading",
     "level": 3,
     "source": [
      "Join with Movie Names"
     ]
    },
    {
     "cell_type": "code",
     "collapsed": true,
     "input": [
      "ratings_with_names = pandas.merge(ratings, movie_titles, on=\"item_id\", left_index=False, right_index=False, suffixes=[\"_left\", \"_right\"])"
     ],
     "language": "python",
     "outputs": [],
     "prompt_number": 5
    },
    {
     "cell_type": "heading",
     "level": 1,
     "source": [
      "Explore Ratings"
     ]
    },
    {
     "cell_type": "code",
     "collapsed": true,
     "input": [
      "n_ratings = len(ratings)",
      "n_users = len(set(ratings[\"user_id\"]))",
      "n_movies = len(set(ratings[\"item_id\"]))",
      "ratings_density = n_ratings / (n_users * n_movies + 0.0)"
     ],
     "language": "python",
     "outputs": [],
     "prompt_number": 6
    },
    {
     "cell_type": "code",
     "collapsed": true,
     "input": [
      "rankings = {}",
      "for name, group in ratings_with_names.groupby(\"item_id\"):",
      "    rankings[name] = {\"ratings\": list(group[\"rating\"]), \"n_ratings\": len(group[\"rating\"]), \"avg_rating\": sum(group[\"rating\"])/(len(group[\"rating\"]) + 0.0)}",
      "rankings_df = pandas.DataFrame.from_dict(rankings, orient=\"index\")"
     ],
     "language": "python",
     "outputs": [],
     "prompt_number": 7
    },
    {
     "cell_type": "heading",
     "level": 3,
     "source": [
      "Most Frequently Rated Movies"
     ]
    },
    {
     "cell_type": "code",
     "collapsed": true,
     "input": [
      "rankings_df.sort(columns=[\"n_ratings\"], ascending=False)[[\"n_ratings\", \"avg_rating\"]].head(10)"
     ],
     "language": "python",
     "outputs": [
      {
       "html": [
        "<div style=\"max-height:1000px;max-width:1500px;overflow:auto;\">",
        "<table border=\"1\">",
        "  <thead>",
        "    <tr>",
        "      <th></th>",
        "      <th>n_ratings</th>",
        "      <th>avg_rating</th>",
        "    </tr>",
        "    </thead>",
        "    <tbody>",
        "    <tr>",
        "      <td><strong>50</strong></td>",
        "      <td> 583</td>",
        "      <td> 4.358491</td>",
        "    </tr>",
        "    <tr>",
        "      <td><strong>258</strong></td>",
        "      <td> 509</td>",
        "      <td> 3.803536</td>",
        "    </tr>",
        "    <tr>",
        "      <td><strong>100</strong></td>",
        "      <td> 508</td>",
        "      <td> 4.155512</td>",
        "    </tr>",
        "    <tr>",
        "      <td><strong>181</strong></td>",
        "      <td> 507</td>",
        "      <td> 4.007890</td>",
        "    </tr>",
        "    <tr>",
        "      <td><strong>294</strong></td>",
        "      <td> 485</td>",
        "      <td> 3.156701</td>",
        "    </tr>",
        "    <tr>",
        "      <td><strong>286</strong></td>",
        "      <td> 481</td>",
        "      <td> 3.656965</td>",
        "    </tr>",
        "    <tr>",
        "      <td><strong>288</strong></td>",
        "      <td> 478</td>",
        "      <td> 3.441423</td>",
        "    </tr>",
        "    <tr>",
        "      <td><strong>1</strong></td>",
        "      <td> 452</td>",
        "      <td> 3.878319</td>",
        "    </tr>",
        "    <tr>",
        "      <td><strong>300</strong></td>",
        "      <td> 431</td>",
        "      <td> 3.631090</td>",
        "    </tr>",
        "    <tr>",
        "      <td><strong>121</strong></td>",
        "      <td> 429</td>",
        "      <td> 3.438228</td>",
        "    </tr>",
        "  </tbody>",
        "</table>",
        "",
        "</div>"
       ],
       "output_type": "pyout",
       "prompt_number": 8,
       "text": [
        "     n_ratings  avg_rating",
        "50         583    4.358491",
        "258        509    3.803536",
        "100        508    4.155512",
        "181        507    4.007890",
        "294        485    3.156701",
        "286        481    3.656965",
        "288        478    3.441423",
        "1          452    3.878319",
        "300        431    3.631090",
        "121        429    3.438228"
       ]
      }
     ],
     "prompt_number": 8
    },
    {
     "cell_type": "heading",
     "level": 3,
     "source": [
      "Highest Rated Movies with at least 20 Ratings"
     ]
    },
    {
     "cell_type": "code",
     "collapsed": true,
     "input": [
      "rankings_df[rankings_df[\"n_ratings\"] >= 20].sort(columns=[\"avg_rating\"], ascending=False)[[\"n_ratings\", \"avg_rating\"]].head(10)"
     ],
     "language": "python",
     "outputs": [
      {
       "output_type": "stream",
       "stream": "stderr",
       "text": [
        "/Library/Python/2.7/site-packages/pandas-0.8.0.dev_3050bf2_20120228-py2.7-macosx-10.7-intel.egg/pandas/core/frame.py:2250: FutureWarning: column is deprecated, use columns",
        "  warnings.warn(\"column is deprecated, use columns\", FutureWarning)"
       ]
      },
      {
       "html": [
        "<div style=\"max-height:1000px;max-width:1500px;overflow:auto;\">",
        "<table border=\"1\">",
        "  <thead>",
        "    <tr>",
        "      <th></th>",
        "      <th>n_ratings</th>",
        "      <th>avg_rating</th>",
        "    </tr>",
        "    </thead>",
        "    <tbody>",
        "    <tr>",
        "      <td><strong>408</strong></td>",
        "      <td> 112</td>",
        "      <td> 4.491071</td>",
        "    </tr>",
        "    <tr>",
        "      <td><strong>318</strong></td>",
        "      <td> 298</td>",
        "      <td> 4.466443</td>",
        "    </tr>",
        "    <tr>",
        "      <td><strong>169</strong></td>",
        "      <td> 118</td>",
        "      <td> 4.466102</td>",
        "    </tr>",
        "    <tr>",
        "      <td><strong>483</strong></td>",
        "      <td> 243</td>",
        "      <td> 4.456790</td>",
        "    </tr>",
        "    <tr>",
        "      <td><strong>114</strong></td>",
        "      <td>  67</td>",
        "      <td> 4.447761</td>",
        "    </tr>",
        "    <tr>",
        "      <td><strong>64</strong></td>",
        "      <td> 283</td>",
        "      <td> 4.445230</td>",
        "    </tr>",
        "    <tr>",
        "      <td><strong>603</strong></td>",
        "      <td> 209</td>",
        "      <td> 4.387560</td>",
        "    </tr>",
        "    <tr>",
        "      <td><strong>12</strong></td>",
        "      <td> 267</td>",
        "      <td> 4.385768</td>",
        "    </tr>",
        "    <tr>",
        "      <td><strong>50</strong></td>",
        "      <td> 583</td>",
        "      <td> 4.358491</td>",
        "    </tr>",
        "    <tr>",
        "      <td><strong>178</strong></td>",
        "      <td> 125</td>",
        "      <td> 4.344000</td>",
        "    </tr>",
        "  </tbody>",
        "</table>",
        "",
        "</div>"
       ],
       "output_type": "pyout",
       "prompt_number": 9,
       "text": [
        "     n_ratings  avg_rating",
        "408        112    4.491071",
        "318        298    4.466443",
        "169        118    4.466102",
        "483        243    4.456790",
        "114         67    4.447761",
        "64         283    4.445230",
        "603        209    4.387560",
        "12         267    4.385768",
        "50         583    4.358491",
        "178        125    4.344000"
       ]
      }
     ],
     "prompt_number": 9
    },
    {
     "cell_type": "code",
     "collapsed": true,
     "input": [
      "hist(rankings_df.ix[408][\"ratings\"])"
     ],
     "language": "python",
     "outputs": [
      {
       "output_type": "pyout",
       "prompt_number": 10,
       "text": [
        "(array([ 1,  0,  1,  0,  0, 10,  0, 30,  0, 70]),",
        " array([ 1. ,  1.4,  1.8,  2.2,  2.6,  3. ,  3.4,  3.8,  4.2,  4.6,  5. ]),",
        " <a list of 10 Patch objects>)"
       ]
      },
      {
       "output_type": "display_data",
       "png": "[encoded data removed]"
      }
     ],
     "prompt_number": 10
    },
    {
     "cell_type": "heading",
     "level": 3,
     "source": [
      "Distribution of Rating Frequency"
     ]
    },
    {
     "cell_type": "code",
     "collapsed": true,
     "input": [
      "hist(rankings_df[\"n_ratings\"], bins=30)"
     ],
     "language": "python",
     "outputs": [
      {
       "output_type": "pyout",
       "prompt_number": 11,
       "text": [
        "(array([755, 219, 172, 109,  85,  55,  59,  36,  44,  25,  20,  22,  17,",
        "        12,   9,  13,   6,   5,   2,   2,   3,   2,   2,   1,   3,   0,",
        "         3,   0,   0,   1]),",
        " array([   1. ,   20.4,   39.8,   59.2,   78.6,   98. ,  117.4,  136.8,",
        "        156.2,  175.6,  195. ,  214.4,  233.8,  253.2,  272.6,  292. ,",
        "        311.4,  330.8,  350.2,  369.6,  389. ,  408.4,  427.8,  447.2,",
        "        466.6,  486. ,  505.4,  524.8,  544.2,  563.6,  583. ]),",
        " <a list of 30 Patch objects>)"
       ]
      },
      {
       "output_type": "display_data",
       "png": "[encoded data removed]"
      }
     ],
     "prompt_number": 11
    },
    {
     "cell_type": "heading",
     "level": 3,
     "source": [
      "Distribution of Average Rating"
     ]
    },
    {
     "cell_type": "code",
     "collapsed": true,
     "input": [
      "hist(rankings_df[\"avg_rating\"], bins=30)"
     ],
     "language": "python",
     "outputs": [
      {
       "output_type": "pyout",
       "prompt_number": 12,
       "text": [
        "(array([ 70,   3,   4,  12,   5,  14,  16,  62,  27,  42,  67,  73,  82,",
        "        93,  58, 183, 129, 100, 122, 109, 108,  91, 114,  44,  29,   9,",
        "         5,   1,   0,  10]),",
        " array([ 1.        ,  1.13333333,  1.26666667,  1.4       ,  1.53333333,",
        "        1.66666667,  1.8       ,  1.93333333,  2.06666667,  2.2       ,",
        "        2.33333333,  2.46666667,  2.6       ,  2.73333333,  2.86666667,",
        "        3.        ,  3.13333333,  3.26666667,  3.4       ,  3.53333333,",
        "        3.66666667,  3.8       ,  3.93333333,  4.06666667,  4.2       ,",
        "        4.33333333,  4.46666667,  4.6       ,  4.73333333,  4.86666667,  5.        ]),",
        " <a list of 30 Patch objects>)"
       ]
      },
      {
       "output_type": "display_data",
       "png": "[encoded data removed]"
      }
     ],
     "prompt_number": 12
    },
    {
     "cell_type": "heading",
     "level": 3,
     "source": [
      "Movies Rated 1.0"
     ]
    },
    {
     "cell_type": "code",
     "collapsed": true,
     "input": [
      "hist(rankings_df[rankings_df[\"avg_rating\"] == 1.0][\"n_ratings\"])"
     ],
     "language": "python",
     "outputs": [
      {
       "output_type": "pyout",
       "prompt_number": 13,
       "text": [
        "(array([58,  0,  6,  0,  0,  3,  0,  0,  0,  3]),",
        " array([ 1. ,  1.4,  1.8,  2.2,  2.6,  3. ,  3.4,  3.8,  4.2,  4.6,  5. ]),",
        " <a list of 10 Patch objects>)"
       ]
      },
      {
       "output_type": "display_data",
       "png": "[encoded data removed]"
      }
     ],
     "prompt_number": 13
    },
    {
     "cell_type": "heading",
     "level": 3,
     "source": [
      "Relationship of Number of Ratings to Average Rating"
     ]
    },
    {
     "cell_type": "code",
     "collapsed": true,
     "input": [
      "hist(rankings_df[rankings_df[\"n_ratings\"] >= 20][\"avg_rating\"], bins=30)"
     ],
     "language": "python",
     "outputs": [
      {
       "output_type": "pyout",
       "prompt_number": 14,
       "text": [
        "(array([ 2,  1,  5,  4,  4,  9,  8, 20, 21, 21, 30, 37, 39, 35, 51, 56, 49,",
        "       51, 64, 59, 57, 57, 62, 51, 52, 40, 27, 16,  5,  6]),",
        " array([ 1.71428571,  1.80684524,  1.89940476,  1.99196429,  2.08452381,",
        "        2.17708333,  2.26964286,  2.36220238,  2.4547619 ,  2.54732143,",
        "        2.63988095,  2.73244048,  2.825     ,  2.91755952,  3.01011905,",
        "        3.10267857,  3.1952381 ,  3.28779762,  3.38035714,  3.47291667,",
        "        3.56547619,  3.65803571,  3.75059524,  3.84315476,  3.93571429,",
        "        4.02827381,  4.12083333,  4.21339286,  4.30595238,  4.3985119 ,",
        "        4.49107143]),",
        " <a list of 30 Patch objects>)"
       ]
      },
      {
       "output_type": "display_data",
       "png": "[encoded data removed]"
      }
     ],
     "prompt_number": 14
    },
    {
     "cell_type": "code",
     "collapsed": true,
     "input": [
      "hist(rankings_df[rankings_df[\"n_ratings\"] < 20][\"avg_rating\"], bins=30)"
     ],
     "language": "python",
     "outputs": [
      {
       "output_type": "pyout",
       "prompt_number": 15,
       "text": [
        "(array([ 70,   3,   4,  12,   5,  12,  14,  55,  21,  28,  43,  43,  42,",
        "        39,  12, 107,  49,  31,  32,  19,  29,  10,  38,   3,   7,   0,",
        "         4,   1,   0,  10]),",
        " array([ 1.        ,  1.13333333,  1.26666667,  1.4       ,  1.53333333,",
        "        1.66666667,  1.8       ,  1.93333333,  2.06666667,  2.2       ,",
        "        2.33333333,  2.46666667,  2.6       ,  2.73333333,  2.86666667,",
        "        3.        ,  3.13333333,  3.26666667,  3.4       ,  3.53333333,",
        "        3.66666667,  3.8       ,  3.93333333,  4.06666667,  4.2       ,",
        "        4.33333333,  4.46666667,  4.6       ,  4.73333333,  4.86666667,  5.        ]),",
        " <a list of 30 Patch objects>)"
       ]
      },
      {
       "output_type": "display_data",
       "png": "[encoded data removed]"
      }
     ],
     "prompt_number": 15
    },
    {
     "cell_type": "code",
     "collapsed": true,
     "input": [
      "scatter(rankings_df[\"n_ratings\"], rankings_df[\"avg_rating\"])"
     ],
     "language": "python",
     "outputs": [
      {
       "output_type": "pyout",
       "prompt_number": 16,
       "text": [
        "<matplotlib.collections.PathCollection at 0x10f771ad0>"
       ]
      },
      {
       "output_type": "display_data",
       "png": "[encoded data removed]"
      }
     ],
     "prompt_number": 16
    },
    {
     "cell_type": "heading",
     "level": 1,
     "source": [
      "User Similarity"
     ]
    },
    {
     "cell_type": "heading",
     "level": 3,
     "source": [
      "Ratings per User"
     ]
    },
    {
     "cell_type": "code",
     "collapsed": false,
     "input": [
      "ratings_per_user = {}",
      "for user_id, group in ratings.groupby(\"user_id\"):",
      "    ratings_per_user[user_id] = dict(zip(group[\"item_id\"], group[\"rating\"]))"
     ],
     "language": "python",
     "outputs": [],
     "prompt_number": 17
    },
    {
     "cell_type": "code",
     "collapsed": true,
     "input": [
      "i = ratings_per_user.iteritems()",
      "i.next()"
     ],
     "language": "python",
     "outputs": [
      {
       "output_type": "pyout",
       "prompt_number": 18,
       "text": [
        "(1,",
        " {1: 5,",
        "  2: 3,",
        "  3: 4,",
        "  4: 3,",
        "  5: 3,",
        "  6: 5,",
        "  7: 4,",
        "  8: 1,",
        "  9: 5,",
        "  10: 3,",
        "  11: 2,",
        "  12: 5,",
        "  13: 5,",
        "  14: 5,",
        "  15: 5,",
        "  16: 5,",
        "  17: 3,",
        "  18: 4,",
        "  19: 5,",
        "  20: 4,",
        "  21: 1,",
        "  22: 4,",
        "  23: 4,",
        "  24: 3,",
        "  25: 4,",
        "  26: 3,",
        "  27: 2,",
        "  28: 4,",
        "  29: 1,",
        "  30: 3,",
        "  31: 3,",
        "  32: 5,",
        "  33: 4,",
        "  34: 2,",
        "  35: 1,",
        "  36: 2,",
        "  37: 2,",
        "  38: 3,",
        "  39: 4,",
        "  40: 3,",
        "  41: 2,",
        "  42: 5,",
        "  43: 4,",
        "  44: 5,",
        "  45: 5,",
        "  46: 4,",
        "  47: 4,",
        "  48: 5,",
        "  49: 3,",
        "  50: 5,",
        "  51: 4,",
        "  52: 4,",
        "  53: 3,",
        "  54: 3,",
        "  55: 5,",
        "  56: 4,",
        "  57: 5,",
        "  58: 4,",
        "  59: 5,",
        "  60: 5,",
        "  61: 4,",
        "  62: 3,",
        "  63: 2,",
        "  64: 5,",
        "  65: 4,",
        "  66: 4,",
        "  67: 3,",
        "  68: 4,",
        "  69: 3,",
        "  70: 3,",
        "  71: 3,",
        "  72: 4,",
        "  73: 3,",
        "  74: 1,",
        "  75: 4,",
        "  76: 4,",
        "  77: 4,",
        "  78: 1,",
        "  79: 4,",
        "  80: 4,",
        "  81: 5,",
        "  82: 5,",
        "  83: 3,",
        "  84: 4,",
        "  85: 3,",
        "  86: 5,",
        "  87: 5,",
        "  88: 4,",
        "  89: 5,",
        "  90: 4,",
        "  91: 5,",
        "  92: 3,",
        "  93: 5,",
        "  94: 2,",
        "  95: 4,",
        "  96: 5,",
        "  97: 3,",
        "  98: 4,",
        "  99: 3,",
        "  100: 5,",
        "  101: 2,",
        "  102: 2,",
        "  103: 1,",
        "  104: 1,",
        "  105: 2,",
        "  106: 4,",
        "  107: 4,",
        "  108: 5,",
        "  109: 5,",
        "  110: 1,",
        "  111: 5,",
        "  112: 1,",
        "  113: 5,",
        "  114: 5,",
        "  115: 5,",
        "  116: 3,",
        "  117: 3,",
        "  118: 3,",
        "  119: 5,",
        "  120: 1,",
        "  121: 4,",
        "  122: 3,",
        "  123: 4,",
        "  124: 5,",
        "  125: 3,",
        "  126: 2,",
        "  127: 5,",
        "  128: 4,",
        "  129: 5,",
        "  130: 3,",
        "  131: 1,",
        "  132: 4,",
        "  133: 4,",
        "  134: 4,",
        "  135: 4,",
        "  136: 3,",
        "  137: 5,",
        "  138: 1,",
        "  139: 3,",
        "  140: 1,",
        "  141: 3,",
        "  142: 2,",
        "  143: 1,",
        "  144: 4,",
        "  145: 2,",
        "  146: 4,",
        "  147: 3,",
        "  148: 2,",
        "  149: 2,",
        "  150: 5,",
        "  151: 4,",
        "  152: 5,",
        "  153: 3,",
        "  154: 5,",
        "  155: 2,",
        "  156: 4,",
        "  157: 4,",
        "  158: 3,",
        "  159: 3,",
        "  160: 4,",
        "  161: 4,",
        "  162: 4,",
        "  163: 4,",
        "  164: 3,",
        "  165: 5,",
        "  166: 5,",
        "  167: 2,",
        "  168: 5,",
        "  169: 5,",
        "  170: 5,",
        "  171: 5,",
        "  172: 5,",
        "  173: 5,",
        "  174: 5,",
        "  175: 5,",
        "  176: 5,",
        "  177: 5,",
        "  178: 5,",
        "  179: 3,",
        "  180: 3,",
        "  181: 5,",
        "  182: 4,",
        "  183: 5,",
        "  184: 4,",
        "  185: 4,",
        "  186: 4,",
        "  187: 4,",
        "  188: 3,",
        "  189: 3,",
        "  190: 5,",
        "  191: 5,",
        "  192: 4,",
        "  193: 4,",
        "  194: 4,",
        "  195: 5,",
        "  196: 5,",
        "  197: 5,",
        "  198: 5,",
        "  199: 4,",
        "  200: 3,",
        "  201: 3,",
        "  202: 5,",
        "  203: 4,",
        "  204: 5,",
        "  205: 3,",
        "  206: 4,",
        "  207: 5,",
        "  208: 5,",
        "  209: 4,",
        "  210: 4,",
        "  211: 3,",
        "  212: 4,",
        "  213: 2,",
        "  214: 4,",
        "  215: 3,",
        "  216: 5,",
        "  217: 3,",
        "  218: 3,",
        "  219: 1,",
        "  220: 3,",
        "  221: 5,",
        "  222: 4,",
        "  223: 5,",
        "  224: 5,",
        "  225: 2,",
        "  226: 3,",
        "  227: 4,",
        "  228: 5,",
        "  229: 4,",
        "  230: 4,",
        "  231: 1,",
        "  232: 3,",
        "  233: 2,",
        "  234: 4,",
        "  235: 5,",
        "  236: 4,",
        "  237: 2,",
        "  238: 4,",
        "  239: 4,",
        "  240: 3,",
        "  241: 4,",
        "  242: 5,",
        "  243: 1,",
        "  244: 2,",
        "  245: 2,",
        "  246: 5,",
        "  247: 1,",
        "  248: 4,",
        "  249: 4,",
        "  250: 4,",
        "  251: 4,",
        "  252: 2,",
        "  253: 5,",
        "  254: 1,",
        "  255: 2,",
        "  256: 4,",
        "  257: 4,",
        "  258: 5,",
        "  259: 1,",
        "  260: 1,",
        "  261: 1,",
        "  262: 3,",
        "  263: 1,",
        "  264: 2,",
        "  265: 4,",
        "  266: 1,",
        "  267: 4,",
        "  268: 5,",
        "  269: 5,",
        "  270: 5,",
        "  271: 2,",
        "  272: 3})"
       ]
      }
     ],
     "prompt_number": 18
    },
    {
     "cell_type": "heading",
     "level": 3,
     "source": [
      "Find Common Movies"
     ]
    },
    {
     "cell_type": "code",
     "collapsed": true,
     "input": [
      "def common_items(user1, user2):",
      "  return list(set(ratings_per_user[user1].keys()) & set(ratings_per_user[user2].keys()))",
      "",
      "common_items(1, 2)"
     ],
     "language": "python",
     "outputs": [
      {
       "output_type": "pyout",
       "prompt_number": 19,
       "text": [
        "[237,",
        " 257,",
        " 258,",
        " 251,",
        " 100,",
        " 1,",
        " 242,",
        " 10,",
        " 127,",
        " 13,",
        " 14,",
        " 269,",
        " 272,",
        " 50,",
        " 19,",
        " 25,",
        " 111,",
        " 255]"
       ]
      }
     ],
     "prompt_number": 19
    },
    {
     "cell_type": "heading",
     "level": 3,
     "source": [
      "Extract Movie Ratings"
     ]
    },
    {
     "cell_type": "code",
     "collapsed": true,
     "input": [
      "def rating_vector(user, items):",
      "  return [ratings_per_user[user][item] for item in items]",
      "",
      "rating_vector(1, common_items(1, 2))"
     ],
     "language": "python",
     "outputs": [
      {
       "output_type": "pyout",
       "prompt_number": 20,
       "text": [
        "[2, 4, 5, 4, 5, 5, 5, 3, 5, 5, 5, 5, 3, 5, 5, 4, 5, 2]"
       ]
      }
     ],
     "prompt_number": 20
    },
    {
     "cell_type": "heading",
     "level": 3,
     "source": [
      "Euclidean Similarity"
     ]
    },
    {
     "cell_type": "code",
     "collapsed": true,
     "input": [
      "from scipy.spatial.distance import euclidean",
      "euclidean([5, 5, 5], [5, 5, 4])"
     ],
     "language": "python",
     "outputs": [
      {
       "output_type": "pyout",
       "prompt_number": 21,
       "text": [
        "1.0"
       ]
      }
     ],
     "prompt_number": 21
    },
    {
     "cell_type": "code",
     "collapsed": true,
     "input": [
      "def euclidean_similarity(x, y):",
      "    return 1 / (1 + euclidean(x, y))",
      "",
      "euclidean_similarity([5, 5, 5], [5, 5, 4])"
     ],
     "language": "python",
     "outputs": [
      {
       "output_type": "pyout",
       "prompt_number": 22,
       "text": [
        "0.5"
       ]
      }
     ],
     "prompt_number": 22
    },
    {
     "cell_type": "code",
     "collapsed": true,
     "input": [
      "common_movies = common_items(1, 2)",
      "common_movies"
     ],
     "language": "python",
     "outputs": [
      {
       "output_type": "pyout",
       "prompt_number": 23,
       "text": [
        "[237,",
        " 257,",
        " 258,",
        " 251,",
        " 100,",
        " 1,",
        " 242,",
        " 10,",
        " 127,",
        " 13,",
        " 14,",
        " 269,",
        " 272,",
        " 50,",
        " 19,",
        " 25,",
        " 111,",
        " 255]"
       ]
      }
     ],
     "prompt_number": 23
    },
    {
     "cell_type": "code",
     "collapsed": true,
     "input": [
      "ratings_1 = array(rating_vector(1, common_movies))",
      "ratings_1"
     ],
     "language": "python",
     "outputs": [
      {
       "output_type": "pyout",
       "prompt_number": 24,
       "text": [
        "array([2, 4, 5, 4, 5, 5, 5, 3, 5, 5, 5, 5, 3, 5, 5, 4, 5, 2])"
       ]
      }
     ],
     "prompt_number": 24
    },
    {
     "cell_type": "code",
     "collapsed": true,
     "input": [
      "ratings_2 = array(rating_vector(2, common_movies))",
      "ratings_2"
     ],
     "language": "python",
     "outputs": [
      {
       "output_type": "pyout",
       "prompt_number": 25,
       "text": [
        "array([4, 4, 3, 5, 5, 4, 5, 2, 5, 4, 4, 4, 5, 5, 3, 4, 4, 4])"
       ]
      }
     ],
     "prompt_number": 25
    },
    {
     "cell_type": "code",
     "collapsed": true,
     "input": [
      "ratings_diff = ratings_1 - ratings_2",
      "ratings_diff"
     ],
     "language": "python",
     "outputs": [
      {
       "output_type": "pyout",
       "prompt_number": 26,
       "text": [
        "array([-2,  0,  2, -1,  0,  1,  0,  1,  0,  1,  1,  1, -2,  0,  2,  0,  1,",
        "       -2])"
       ]
      }
     ],
     "prompt_number": 26
    },
    {
     "cell_type": "code",
     "collapsed": true,
     "input": [
      "dist = sqrt(sum(ratings_diff ** 2))",
      "dist"
     ],
     "language": "python",
     "outputs": [
      {
       "output_type": "pyout",
       "prompt_number": 27,
       "text": [
        "5.196152422706632"
       ]
      }
     ],
     "prompt_number": 27
    },
    {
     "cell_type": "code",
     "collapsed": true,
     "input": [
      "1 / (1 + dist)"
     ],
     "language": "python",
     "outputs": [
      {
       "output_type": "pyout",
       "prompt_number": 28,
       "text": [
        "0.16139047779640892"
       ]
      }
     ],
     "prompt_number": 28
    },
    {
     "cell_type": "code",
     "collapsed": true,
     "input": [
      "def user_similarity_euclidean(user1, user2):",
      "    common_movies = common_items(user1, user2)",
      "    return euclidean_similarity(rating_vector(user1, common_movies), rating_vector(user2, common_movies))"
     ],
     "language": "python",
     "outputs": [],
     "prompt_number": 29
    },
    {
     "cell_type": "code",
     "collapsed": true,
     "input": [
      "user_similarity_euclidean(1, 2)"
     ],
     "language": "python",
     "outputs": [
      {
       "output_type": "pyout",
       "prompt_number": 30,
       "text": [
        "0.16139047779640892"
       ]
      }
     ],
     "prompt_number": 30
    },
    {
     "cell_type": "code",
     "collapsed": true,
     "input": [
      "hist([user_similarity_euclidean(1, user) for user in ratings_per_user.keys() if user != 1])"
     ],
     "language": "python",
     "outputs": [
      {
       "output_type": "pyout",
       "prompt_number": 31,
       "text": [
        "(array([524, 315,  80,  15,   5,   0,   0,   0,   0,   3]),",
        " array([ 0.03350711,  0.1301564 ,  0.22680569,  0.32345498,  0.42010427,",
        "        0.51675356,  0.61340284,  0.71005213,  0.80670142,  0.90335071,  1.        ]),",
        " <a list of 10 Patch objects>)"
       ]
      },
      {
       "output_type": "display_data",
       "png": "[encoded data removed]"
      }
     ],
     "prompt_number": 31
    },
    {
     "cell_type": "code",
     "collapsed": true,
     "input": [
      "hist([user_similarity_euclidean(2, user) for user in ratings_per_user.keys() if user != 2])"
     ],
     "language": "python",
     "outputs": [
      {
       "output_type": "pyout",
       "prompt_number": 32,
       "text": [
        "(array([240, 512, 110,  52,  18,   0,   0,   0,   0,  10]),",
        " array([ 0.06543279,  0.15888951,  0.25234623,  0.34580295,  0.43925968,",
        "        0.5327164 ,  0.62617312,  0.71962984,  0.81308656,  0.90654328,  1.        ]),",
        " <a list of 10 Patch objects>)"
       ]
      },
      {
       "output_type": "display_data",
       "png": "[encoded data removed]"
      }
     ],
     "prompt_number": 32
    },
    {
     "cell_type": "heading",
     "level": 3,
     "source": [
      "Pearson Correlation"
     ]
    },
    {
     "cell_type": "code",
     "collapsed": true,
     "input": [
      "from scipy.stats import pearsonr",
      "def just_pearsonr(x, y):",
      "    return pearsonr(x, y)[0]"
     ],
     "language": "python",
     "outputs": [],
     "prompt_number": 33
    },
    {
     "cell_type": "code",
     "collapsed": true,
     "input": [
      "def user_similarity_pearson(user1, user2):",
      "    common_movies = common_items(user1, user2)",
      "    return just_pearsonr(rating_vector(user1, common_movies), rating_vector(user2, common_movies))"
     ],
     "language": "python",
     "outputs": [],
     "prompt_number": 34
    },
    {
     "cell_type": "code",
     "collapsed": true,
     "input": [
      "user_similarity_pearson(1, 2)"
     ],
     "language": "python",
     "outputs": [
      {
       "output_type": "pyout",
       "prompt_number": 35,
       "text": [
        "0.16084123285436985"
       ]
      }
     ],
     "prompt_number": 35
    },
    {
     "cell_type": "code",
     "collapsed": true,
     "input": [
      "[user_similarity_pearson(1, user) for user in ratings_per_user.keys() if user != 1]"
     ],
     "language": "python",
     "outputs": [
      {
       "output_type": "pyout",
       "prompt_number": 36,
       "text": [
        "[0.16084123285436985,",
        " 0.11278047951882526,",
        " 0.5,",
        " 0.42080861824875337,",
        " 0.28715869059890875,",
        " 0.25813731920875255,",
        " 0.69208636607735941,",
        " -0.10206207261596575,",
        " -0.092343961448463741,",
        " 0.30285001093599107,",
        " 0.042191293276943938,",
        " 0.4298574485615782,",
        " 0.040671057772801014,",
        " 0.14580495847012998,",
        " 0.14287547845726756,",
        " 0.57864141607503095,",
        " -0.036809632592713935,",
        " -0.57735026918962562,",
        " 0.035264899803315,",
        " 0.53328211492266697,",
        " 0.59161349685857045,",
        " 0.28916367674643845,",
        " -0.073681407193731438,",
        " 0.16658099888065903,",
        " 0.31811148949594248,",
        " 0.56461766129680702,",
        " 0.31751074553922798,",
        " 0.65595646537110319,",
        " 0.54498166142607551,",
        " -0.092213889195414692,",
        " 0.63252871246730824,",
        " 0.19245008972987526,",
        " 0.89104211121363042,",
        " -0.57646135369831353,",
        " -0.94491118252306805,",
        " 0.15675071645899019,",
        " -0.15058497115908964,",
        " 1.0,",
        " 0.42731203287602831,",
        " 0.061101612741776501,",
        " 0.27982012100798165,",
        " 0.15024181477203366,",
        " 0.3735362815999797,",
        " 0.49530346633817773,",
        " 0.33794136430312105,",
        " -1.0,",
        " 0.24299614603574982,",
        " 0.1388957172292844,",
        " 0.1336306209562122,",
        " 0.41486703808681002,",
        " -0.0026045906254268062,",
        " 0.39791121287711079,",
        " 0.30783074227705037,",
        " 0.49872289251016588,",
        " 0.19445200661396905,",
        " 0.56518730174277043,",
        " 0.20641527047732947,",
        " 0.36410066783671446,",
        " 0.49507317131563533,",
        " 0.81409157841069435,",
        " 0.33988381110851795,",
        " 0.065911408692949758,",
        " 0.28683962723131756,",
        " 0.34350799734468368,",
        " 0.62678317052800869,",
        " -0.10502100630210075,",
        " 0.35892126803877694,",
        " 0.52974773443173129,",
        " 0.26691598132692895,",
        " -0.032850215990880213,",
        " 0.13294913337780276,",
        " 0.2724467136712439,",
        " -0.077034789062666448,",
        " 0.50135410607396069,",
        " 0.15112361120838011,",
        " 0.32692942604716752,",
        " -0.64820372355216449,",
        " -0.28531755196256214,",
        " 0.38832158167381181,",
        " -0.08310049316511732,",
        " 0.32602357499550655,",
        " 0.33348595942161646,",
        " 0.06091325562161911,",
        " 0.15827400890206331,",
        " 0.40824829046386296,",
        " 0.298587300446779,",
        " nan,",
        " -0.0042788660952216284,",
        " 0.098967666272874677,",
        " 0.36270160350455788,",
        " 0.3485114861633532,",
        " 0.73333333333333328,",
        " 0.40378894409751043,",
        " 0.24129771974690056,",
        " -0.013243279152022547,",
        " 0.25275389922238345,",
        " -0.56081737582947455,",
        " 0.2248660426140856,",
        " 0.59137701676365817,",
        " -0.26388888888888884,",
        " 0.46975042247798238,",
        " 0.057974783692344552,",
        " 0.39689255659795641,",
        " 0.88229880338305944,",
        " -0.067998029473412228,",
        " 0.91653421378307809,",
        " 0.44945477470048317,",
        " 0.16548740750373681,",
        " -0.0062915127800497773,",
        " 0.81649658092772615,",
        " -0.7543365091413573,",
        " 0.074920983852603817,",
        " 0.33366913773669671,",
        " 0.3375467878097031,",
        " 0.20282683600058052,",
        " 0.50816064386291737,",
        " 0.36745987838734079,",
        " 0.19107459923612688,",
        " 0.58663414157023497,",
        " 0.45801094862284264,",
        " 0.3835770682564657,",
        " 0.2539023226880554,",
        " -0.1035907958487341,",
        " 0.20276046464556377,",
        " 0.06834085335022716,",
        " -0.37793440591084726,",
        " 0.043227465484022023,",
        " 0.031265269974036058,",
        " 0.21177885304449198,",
        " 0.055908688460393555,",
        " -0.19364916731037074,",
        " 0.61631124729335085,",
        " 0.77174363314128969,",
        " 0.50213188684259802,",
        " 0.20788046015507503,",
        " 0.17986923354612527,",
        " 0.13147124778907102,",
        " 0.56044853831780495,",
        " 0.5,",
        " 0.10442923535096285,",
        " 0.59249079806367788,",
        " -0.94491118252306805,",
        " 0.20164731865208757,",
        " 0.25738437581521284,",
        " -0.064820372355216441,",
        " nan,",
        " 0.19652097800084969,",
        " 0.58490566037735847,",
        " 0.1465506683716431,",
        " 0.25913902581508896,",
        " 0.15106236365053372,",
        " -0.42695628191498336,",
        " 0.086326188907974263,",
        " nan,",
        " 0.30694206967737536,",
        " 0.38878966532349091,",
        " 0.24898429086916207,",
        " 0.23270049352242436,",
        " 0.20841410851538456,",
        " 0.015330496552138724,",
        " 0.23021144311104699,",
        " -0.39852669849304284,",
        " 0.25715142542972574,",
        " 0.58966768575739781,",
        " 1.0,",
        " -0.031265542531133797,",
        " 0.18217679614153282,",
        " 0.53420700101165797,",
        " -0.27735009811261452,",
        " 0.22360679774997896,",
        " 0.15877683720748897,",
        " 0.5788596842339373,",
        " 0.326070593631684,",
        " -0.13721630913136929,",
        " 0.19044388477187832,",
        " 0.33178174584484404,",
        " 0.23098832147683113,",
        " 0.5222329678670935,",
        " 0.097175002817435047,",
        " 0.15342928058648034,",
        " 0.039971585860381458,",
        " 0.34506470569904668,",
        " 0.41302779802720002,",
        " 0.26819419161535779,",
        " -0.060440888485561235,",
        " -0.071767871414890425,",
        " 0.069109586647812721,",
        " 0.22112764515353076,",
        " -0.38718955283755241,",
        " -0.17407765595569785,",
        " 0.66377440972639545,",
        " 0.10632951600405748,",
        " 0.27654852912439259,",
        " -0.067927742862156762,",
        " -0.10240550944964844,",
        " 0.53008204930947511,",
        " 0.24677838729493184,",
        " 0.58734420704612511,",
        " 0.27957754814641361,",
        " 0.19500578419544073,",
        " 0.66332495807108005,",
        " 0.1888429409623551,",
        " 0.40181205568634337,",
        " 0.53452248382484879,",
        " 0.40451991747794525,",
        " 0.055778439726414192,",
        " -0.070343927287029165,",
        " 0.29483056930970247,",
        " 0.39876344938154668,",
        " -0.27437926239387289,",
        " 0.65085119708742778,",
        " 0.14086076639672376,",
        " -0.061959562942134755,",
        " 0.40147287358897499,",
        " 0.19751199713179196,",
        " -0.0082204019880037539,",
        " 0.32320189094609825,",
        " 0.11434616510858282,",
        " 0.5222329678670935,",
        " 0.16059727493378334,",
        " 0.40374838185374712,",
        " 0.10388552990152047,",
        " 0.2434506521057736,",
        " 0.58160493447250017,",
        " 0.48960407903951808,",
        " 0.4628314313107138,",
        " -0.80757285308724824,",
        " 0.53931937163000598,",
        " 0.020467563696845152,",
        " -0.187673090951641,",
        " 0.47796642007798912,",
        " 0.072340082305262135,",
        " 0.20987163093166378,",
        " -0.20795444194958773,",
        " 0.076938929820103419,",
        " 0.36655484454186493,",
        " 0.26967994498529685,",
        " -0.050688419289395457,",
        " 0.77777777777777779,",
        " nan,",
        " 0.33333333333333331,",
        " 0.094944184534501583,",
        " 0.34199006911776575,",
        " 0.28867513459481287,",
        " 0.48193957296780437,",
        " 0.51915471919534639,",
        " 0.26197787928233113,",
        " 0.24702443121810905,",
        " 0.18878134876749986,",
        " 0.29775862093467464,",
        " -0.1336306209562122,",
        " 0.38499120468969972,",
        " 0.33294917782309097,",
        " 0.19717522217683528,",
        " 0.18326613216389367,",
        " 0.47029794974882466,",
        " -0.32732683535398854,",
        " 0.0067559343166397447,",
        " 0.5,",
        " 0.0,",
        " -0.045250771980226347,",
        " 0.31967283666565827,",
        " 0.16637976944997748,",
        " -0.33275626858414736,",
        " 0.75232558697672636,",
        " 0.45399621485046737,",
        " 0.39007331593531036,",
        " 0.30992463228484685,",
        " 0.1998678523195157,",
        " 0.2178756662892615,",
        " 0.088865194662454627,",
        " 1.0,",
        " 0.6510499488055459,",
        " 0.29939247542604791,",
        " 0.48010014769587739,",
        " -0.094547193135858909,",
        " 0.49301257198088033,",
        " 0.18428045752003946,",
        " 0.0057181855037568936,",
        " -0.57655666019705509,",
        " 0.75,",
        " 0.51839607571348101,",
        " 0.48121773951145325,",
        " -0.096869441004663909,",
        " 0.01713712124775997,",
        " 0.15859975591329756,",
        " -0.13145918050005906,",
        " 0.53726587317071939,",
        " 0.24357519837019012,",
        " 0.40907379161054619,",
        " 0.30739583399566639,",
        " 0.3583989483421508,",
        " 0.53113917258304166,",
        " 0.062378073386541513,",
        " 0.38030249580263265,",
        " 0.26693479988115165,",
        " -0.058302413361679385,",
        " 0.37416859771621036,",
        " 0.11236664374387369,",
        " 0.27814070523855033,",
        " 0.0,",
        " 0.44725247285246761,",
        " 0.1846372364689991,",
        " 0.34449418535001508,",
        " -0.010971139976028674,",
        " 0.22630130145333949,",
        " 0.21378307977445135,",
        " nan,",
        " -0.11547005383792516,",
        " 0.24412273724650038,",
        " 1.6461289106789873e-16,",
        " 0.25902448950941542,",
        " -0.048318597612669649,",
        " 0.45980380014510064,",
        " -0.14165764939496564,",
        " -0.66212219197173061,",
        " 0.081328884119685793,",
        " 0.69985421222376532,",
        " 0.34045569753904265,",
        " -0.086464541168502732,",
        " -0.14396315014973879,",
        " 0.32577922746143773,",
        " -0.17817416127494959,",
        " 0.23804775264343214,",
        " 0.060123983240017088,",
        " 0.1428955946670778,",
        " 0.32503735248135412,",
        " 0.4395159278483638,",
        " 0.08299715038074415,",
        " 0.26923076923076905,",
        " 0.22589938596060213,",
        " 0.31828458677019666,",
        " 0.42831417703706409,",
        " -0.4099600308453939,",
        " -0.050728150003989649,",
        " -0.061599694772899762,",
        " 0.17110175024477645,",
        " 0.2805486997096403,",
        " 0.13570253708545232,",
        " nan,",
        " -0.028731988329880186,",
        " 0.24925138172174899,",
        " 0.49709223542719277,",
        " 0.27831076941664612,",
        " 0.32213885519841684,",
        " 0.060570033596934622,",
        " 0.29663304745996327,",
        " 0.36272020050258191,",
        " 0.24815143275766918,",
        " 1.0,",
        " 0.11022257148771393,",
        " 0.41635890185330249,",
        " 0.12842842902161691,",
        " 0.19245008972987526,",
        " nan,",
        " -0.12355524564107227,",
        " -0.48359501402498989,",
        " 0.42640143271122083,",
        " 0.18339477939045895,",
        " 0.31570862967886798,",
        " 0.19245008972987526,",
        " 0.41357468935389291,",
        " 0.85280286542244166,",
        " 0.016717159753199384,",
        " -0.36144869800612439,",
        " 0.37784367313506972,",
        " 0.4055964310468092,",
        " 0.42197205281218697,",
        " 0.18818059025995273,",
        " -0.24848395479607618,",
        " -0.23269496690831393,",
        " 0.18514027662639504,",
        " 0.11295999800484187,",
        " 0.13684513787599331,",
        " 0.20739033894608505,",
        " 0.1832192895445269,",
        " 0.33020773647591228,",
        " 0.26651404997679479,",
        " 0.36361727710625158,",
        " 0.58095342453814691,",
        " 0.026282536436437281,",
        " -0.10519479071120048,",
        " -0.1889822365046136,",
        " 0.081013831849674575,",
        " 0.0,",
        " 0.28921834483072839,",
        " -0.31525922540806472,",
        " 0.36287029256090592,",
        " -0.23809523809523808,",
        " 0.27066864107644245,",
        " 0.41764513197615466,",
        " 0.0090570720719903176,",
        " 0.3199145338032291,",
        " 0.41625091713236834,",
        " 0.037821469777878015,",
        " 0.54107915150250618,",
        " 0.34981954372776936,",
        " -0.050201620736565825,",
        " 0.86602540378443849,",
        " 0.054059684669838508,",
        " 0.37725467994526696,",
        " -0.043236550275870145,",
        " 0.21320071635561041,",
        " -0.008591721600450207,",
        " 0.2738996077966373,",
        " 0.22692618301976125,",
        " 0.42257712736425829,",
        " 0.33339644603207302,",
        " -0.18898223650461365,",
        " 0.28930095068856776,",
        " 0.24112141108520607,",
        " 0.71301069187983146,",
        " 0.71574791789233527,",
        " 0.58072380988657224,",
        " 0.29891903671540815,",
        " 0.15821951317628208,",
        " nan,",
        " 0.35759768762492056,",
        " -0.13436715393281906,",
        " 0.21521999928873176,",
        " -0.018636370929731583,",
        " 0.35136418446315326,",
        " 0.063048992339595225,",
        " 0.34084406873674405,",
        " 0.13185370294885268,",
        " -0.56591645841811034,",
        " 0.24393468845452251,",
        " 0.40114520397110293,",
        " 0.32443539759784479,",
        " -1.0,",
        " -0.13251101690470479,",
        " 0.6264571115294425,",
        " -0.29327468426080205,",
        " 0.34738976439699565,",
        " 0.11308328323571268,",
        " 0.19140326523985127,",
        " 0.14162538984948672,",
        " 0.035959747611403754,",
        " 0.57442648034920984,",
        " 0.2672612419124244,",
        " 0.27878571213870784,",
        " 0.37009074000180059,",
        " 0.32732683535398854,",
        " 0.0050448557302129465,",
        " -0.33333333333333331,",
        " 0.26500187777824402,",
        " 0.16657415116319241,",
        " 0.61218214032329854,",
        " 0.2368520847347734,",
        " -0.20082935971859389,",
        " 0.22045224962951404,",
        " 0.41813955782209317,",
        " -0.040726860826115686,",
        " 0.24937637891154718,",
        " 0.17670106048134732,",
        " 0.42422491777597349,",
        " 0.26109712475676289,",
        " -0.14972502268352617,",
        " 0.24355264422367642,",
        " 0.68599434057003528,",
        " 0.40919396764125054,",
        " 0.38357944608678979,",
        " 0.39402590424571399,",
        " 0.012471745259110517,",
        " 0.16440761771758519,",
        " 0.53360009748819281,",
        " 0.30536440487940053,",
        " -0.031900455754433489,",
        " -0.010920142993656637,",
        " -0.42289279400031315,",
        " 0.36558330242475873,",
        " 0.34188172937891387,",
        " 0.13899943177637319,",
        " -0.299572344757639,",
        " 0.4595820779456804,",
        " 0.12344267996967359,",
        " 0.27296412113943558,",
        " 0.49587869919262861,",
        " -0.00083612040133784814,",
        " 0.11722342126591098,",
        " 0.28888888888888886,",
        " 0.35963940651840709,",
        " 0.33378171471078205,",
        " 0.8660254037844386,",
        " 0.36932142093621362,",
        " 0.43001514734418861,",
        " 0.36391886058507128,",
        " 0.19056386879158141,",
        " 0.53895572901798416,",
        " 0.21589388479418642,",
        " 0.20539061598575681,",
        " 0.21856759333077003,",
        " 0.078851513380135754,",
        " 0.24465782177787149,",
        " 0.37469415639679959,",
        " 0.25005036420452964,",
        " 0.11308561591129775,",
        " 0.10996641893937593,",
        " 0.30957811876737079,",
        " 0.41336234846506459,",
        " -0.1762610596956927,",
        " 0.215180432239371,",
        " 0.28452695160741648,",
        " -0.13048176405112755,",
        " 0.18200339866662632,",
        " -0.29536530585093268,",
        " 0.31981693780496195,",
        " 0.63510734882995579,",
        " 0.86258194917794284,",
        " 1.0,",
        " -0.34921514788478913,",
        " -0.13826657968874304,",
        " 0.26562957360836004,",
        " -0.11664236870396083,",
        " 0.63245553203367577,",
        " 0.58659260670536195,",
        " 0.034503277967117676,",
        " 0.37713892166384294,",
        " 0.91855865354369171,",
        " 0.18882407383187386,",
        " 0.050604539936925742,",
        " 0.060616789434036603,",
        " 0.032282539310859823,",
        " 0.41079191812887461,",
        " 0.60238214510923249,",
        " 0.08499665143104812,",
        " 0.19964423333823916,",
        " 0.36386977863718106,",
        " 0.074639337086207583,",
        " 1.0,",
        " 0.33997011874899341,",
        " 0.30308140893157176,",
        " -0.0028213375469752981,",
        " 0.068713595255627966,",
        " 0.10538369172705937,",
        " 0.20998527248729829,",
        " 0.045894224411366209,",
        " 0.11623065213009555,",
        " 0.49026941760090625,",
        " 0.11068533034031564,",
        " 0.14316473277595207,",
        " 0.37076828471093143,",
        " 0.72760687510899902,",
        " 0.38106627948376171,",
        " -0.20229696102929781,",
        " nan,",
        " 0.049884450609196607,",
        " 0.71704961909898546,",
        " 0.75234638921740227,",
        " 0.017141351122294538,",
        " 0.29710558438327656,",
        " -0.096925996664627798,",
        " 0.24758959721871571,",
        " 0.068286576707017752,",
        " 0.61010765004639778,",
        " 0.09798527018150098,",
        " -0.43788026951985715,",
        " 0.078702275391324558,",
        " 0.35128611083505423,",
        " 0.34471884271622283,",
        " 0.014979500433262023,",
        " 0.43122153515785938,",
        " 0.28734788556634544,",
        " -0.14596855203028553,",
        " 0.4346463250345185,",
        " 0.029247506796467131,",
        " 0.073479108083472619,",
        " 0.21986051179034713,",
        " 0.49801192055599736,",
        " 0.7149000896634311,",
        " 0.84366148773210747,",
        " 0.23385693117468687,",
        " 0.11918282365569906,",
        " -0.11165085542764533,",
        " 0.25296610752553056,",
        " 0.28824004903896705,",
        " -0.45523273400016295,",
        " 0.4504215313035535,",
        " -0.10284416890093026,",
        " 0.22360679774997896,",
        " 0.43178872842248261,",
        " 0.15850573957717806,",
        " -0.11322770341445959,",
        " 0.041788769268349762,",
        " -0.050401446608354793,",
        " 0.31973566061939684,",
        " 0.042675258002934841,",
        " -0.6690305695911416,",
        " 0.47488532628090752,",
        " 0.46660611811869701,",
        " 0.51046970651839829,",
        " 0.095918696573693368,",
        " 0.5298920292217052,",
        " 0.30750977380716249,",
        " 0.24019223070763068,",
        " 0.22718473369882591,",
        " 0.68000000000000005,",
        " 0.52894143767049184,",
        " 0.57569601426147754,",
        " 0.28374447307380096,",
        " 0.62541823939124253,",
        " 0.27279591677673881,",
        " 0.50898117223400252,",
        " 0.3861260986707204,",
        " 0.20044016574896339,",
        " -0.25485095051420248,",
        " 0.042639763701387695,",
        " 0.51238282758674292,",
        " -0.034095942840826433,",
        " 0.0,",
        " 0.18080484535430749,",
        " -0.046701446249430442,",
        " 0.17069718549972979,",
        " 0.38036106972407152,",
        " 0.53452248382484879,",
        " -0.052642365831235084,",
        " 0.039904009625851417,",
        " 0.34794331166309317,",
        " 0.044842072465106714,",
        " 0.33910943212952516,",
        " 0.31327753743460435,",
        " 0.055646762565528238,",
        " 0.47867692646630627,",
        " 0.1601669426683491,",
        " 0.64659446427981093,",
        " 0.21503739277489387,",
        " 0.7745966692414834,",
        " 0.16968711059062458,",
        " 0.037074333610734068,",
        " nan,",
        " 0.074701788083399598,",
        " 0.14990697436440384,",
        " 0.19900095687614505,",
        " 0.14676457368257237,",
        " -0.46646821177074071,",
        " 0.13402543598694211,",
        " 0.15353355031998928,",
        " 0.12262110315458576,",
        " 0.33643841250822787,",
        " -0.1945068887779616,",
        " 0.14715673227582463,",
        " 0.37933239103381788,",
        " 0.17037481092399631,",
        " 0.17956827488766033,",
        " 0.0,",
        " 0.24932751542153059,",
        " 0.38639373525567072,",
        " 0.091430064176498946,",
        " 0.39095607561943618,",
        " 0.58976782461958854,",
        " 0.28867513459481292,",
        " 0.34795970853670349,",
        " -0.02923192788904954,",
        " 0.18630273022868063,",
        " 0.77777777777777779,",
        " 0.1964285714285714,",
        " -0.02554505753519784,",
        " 0.15497230810193285,",
        " 0.39190418182948511,",
        " 0.44538208330972634,",
        " 0.2672612419124244,",
        " 0.18051855813383039,",
        " 0.41313887573893371,",
        " 0.10026510943656269,",
        " 0.083682684091849882,",
        " -0.011523725365209249,",
        " 0.37115487031148842,",
        " 0.25769716647210511,",
        " 0.077552914139010429,",
        " 0.26576779009692858,",
        " 0.63639610306789274,",
        " -0.60048057676907673,",
        " 0.27684044624136012,",
        " 0.0,",
        " 0.022066551038634457,",
        " -0.06531101891882729,",
        " 0.26600795837367086,",
        " 0.43794107961005346,",
        " 0.098682222730305191,",
        " -1.0,",
        " 0.37095341685166155,",
        " 0.41077096096139276,",
        " 0.099230870055423886,",
        " nan,",
        " 0.1292159333069256,",
        " 0.90453403373329089,",
        " nan,",
        " 0.23847695390781573,",
        " 0.17659266390414,",
        " 0.83874169727605941,",
        " 0.020374248554268174,",
        " -0.030120724833843676,",
        " 0.23095569873571956,",
        " 0.59317101400173944,",
        " 0.56011203361120399,",
        " 0.64668848152023961,",
        " 0.020912366473007888,",
        " 0.19143859319427214,",
        " 0.53873392629705874,",
        " 0.33836394755025095,",
        " 0.79494818839587555,",
        " 0.21656137491425007,",
        " -0.10695208860918325,",
        " 0.039397850088052681,",
        " -0.094826852128503017,",
        " 0.19793586306722585,",
        " 0.30772975127952218,",
        " 0.21987114962886592,",
        " 0.17267995121147894,",
        " 0.21121632681460945,",
        " -0.21100433439317892,",
        " -0.5,",
        " 0.043142615433671615,",
        " 0.39562893832306129,",
        " 0.11610772340979715,",
        " 0.41247974068071291,",
        " 0.41464421443136462,",
        " 0.29131927528416524,",
        " -0.31622776601683794,",
        " 0.40124485149950245,",
        " -0.02848089857057548,",
        " 0.074848118856511978,",
        " 0.4687785138336712,",
        " 0.60276378111510309,",
        " 0.531150395871128,",
        " 0.32557124405451465,",
        " 0.51498104766297403,",
        " nan,",
        " 0.35007509812785031,",
        " 0.034309405758141405,",
        " 0.27735009811261452,",
        " 0.36475935778216528,",
        " -0.23489875447901234,",
        " 0.34965807092403117,",
        " 0.7660323462854266,",
        " 0.086384158123180288,",
        " 0.36713829578668461,",
        " -0.42775741552143243,",
        " 0.8703882797784892,",
        " 0.26959843342660184,",
        " 0.33288977580706713,",
        " 0.44160275752263173,",
        " 0.085924972518930748,",
        " 0.0058408996301275943,",
        " 0.31967014362251073,",
        " 0.16919681638021852,",
        " 0.27685402763936856,",
        " 0.26576237959848875,",
        " 0.16666666666666669,",
        " 0.092105964253815495,",
        " -0.31772827586148411,",
        " -0.1956502635439121,",
        " 0.81064348337777759,",
        " 0.73477046786696476,",
        " 0.15547681614558895,",
        " 0.42608201988489008,",
        " 0.32174577405295329,",
        " 0.16214761366475955,",
        " 0.30086272846696582,",
        " 0.09418534610941387,",
        " 0.20958500682489856,",
        " 0.137804997179829,",
        " 0.070901166242265598,",
        " 0.32028481860874497,",
        " 0.073716478474406683,",
        " 0.12170203882097518,",
        " 0.14738106746505927,",
        " 0.63373443107903848,",
        " 0.36362216192015168,",
        " 0.045039293133158111,",
        " 0.68262876312190002,",
        " 0.50460373326019403,",
        " 0.21379711472780141,",
        " -0.15877683720748889,",
        " 0.44417762925514409,",
        " -0.036896966523196205,",
        " 0.45527672246936807,",
        " 0.091874256283041092,",
        " 0.15575579739147,",
        " 0.26748255012960698,",
        " 0.3931444629568257,",
        " -0.29880715233359839,",
        " 0.18632102821336113,",
        " 0.19793712253544543,",
        " 0.1396748778585562,",
        " 0.41931393468876732,",
        " 0.26609449259863299,",
        " 0.5518254055364693,",
        " 0.27815598151992643,",
        " 0.84548890303097113,",
        " 0.44461236404061444,",
        " 0.27076518053694126,",
        " 0.22687920032466846,",
        " 0.25260076142758786,",
        " 0.14015850305872529,",
        " 0.70512715241668911,",
        " -0.12508275318510451,",
        " nan,",
        " 0.53947368421052633,",
        " 0.66666666666666663,",
        " 0.40500484282089438,",
        " 0.8496546792899824,",
        " 0.33724840716381904,",
        " 0.38015945968866099,",
        " 0.34478819448826786,",
        " 0.038298625570804372,",
        " 0.045834924851410601,",
        " -0.1889822365046136,",
        " 1.0,",
        " 1.0,",
        " 1.0,",
        " 0.63639610306789274,",
        " 0.17334381132038426,",
        " 0.35412218988722927,",
        " 0.0,",
        " 0.19518001458970663,",
        " -0.57735026918962573,",
        " 0.30012252399939043,",
        " 0.5,",
        " -0.026435733840270887,",
        " 0.39056673294247163,",
        " 0.28989089226741305,",
        " 0.49892218025118684,",
        " -0.0092995717313704308,",
        " 0.39103592022868094,",
        " 0.42257712736425829,",
        " 0.25939550881905071,",
        " 0.39202397720480836,",
        " 0.275579217413285,",
        " 0.34616439336541022,",
        " 0.21339479988815996,",
        " 0.11742105371319939,",
        " 0.048950649987362822,",
        " -0.043555675484554135,",
        " 0.34871490092681401,",
        " -0.063838818941703707,",
        " 0.051849376613788516,",
        " 0.50449360440802693,",
        " 0.10029412091607925,",
        " 0.55555555555555558,",
        " 0.25000000000000011,",
        " 0.20791082375673922,",
        " 0.25334014822105361,",
        " 0.57735026918962584,",
        " 0.25804081102038945,",
        " 0.30172510091650256,",
        " 0.26964630904217091,",
        " nan,",
        " 0.016661884774821015,",
        " 0.37205639426673615,",
        " 0.36324157862838935,",
        " 0.62325023884075148,",
        " 0.20144703527309638,",
        " 0.047619047619047616,",
        " -0.86602540378443849,",
        " 0.19603788170613809,",
        " nan,",
        " 0.25805674886672347,",
        " 0.16190895203870689,",
        " 0.40310542256881288,",
        " 0.21574806965041302,",
        " 0.52338659874516447,",
        " 0.29307670776981548,",
        " 0.2256280157137546,",
        " 1.0,",
        " 0.39246582403474456,",
        " 0.51525593084876553,",
        " 0.16086250333085259,",
        " 0.32603283593805193,",
        " 0.34243354206201171,",
        " -0.43226548355826655,",
        " 0.86602540378443849,",
        " 0.40195665056840418,",
        " 0.25801767932932079,",
        " 0.54772255750516607,",
        " 0.24531199163995229,",
        " 0.26836225220634113,",
        " 0.1215062941890627,",
        " 0.46695639201987255,",
        " 0.25041368920314533,",
        " 0.31532668047767137,",
        " 0.309229393814064,",
        " 0.023617508386047342,",
        " 0.22490476091725506,",
        " 0.443325119238205,",
        " 0.030580547264164842,",
        " -0.057639041770423526,",
        " 0.33762298899736998,",
        " 0.42056642968274227,",
        " -0.32644644958710428,",
        " 0.36831450692665446,",
        " 0.44119429554008555,",
        " 0.29423170923283409,",
        " 0.63960214906683133,",
        " 0.31045711951469496,",
        " 0.090408467149441049,",
        " 0.72875091178267182,",
        " 0.33977575318279796,",
        " 0.2914035190176737,",
        " 0.18150066530199166,",
        " -0.098325781505328003,",
        " 0.28658502762082899,",
        " -0.58607805958151027,",
        " 0.62877291889260256,",
        " 0.036123609738137538,",
        " 0.22402322793247048,",
        " 0.28958274433796527,",
        " -0.20365326999063921,",
        " 0.4012169735747208,",
        " 0.15467767200980675,",
        " -0.24926051686714354,",
        " 0.20987851225668067,",
        " -0.60633906259083237,",
        " nan,",
        " 0.4154188371190411,",
        " 0.079444071199856373,",
        " 0.071188005940924129,",
        " 0.17460937468599425,",
        " 0.75,",
        " 0.18005575742732144,",
        " 0.29071156796907383,",
        " 0.59041278864143232,",
        " 0.27058402678047117,",
        " 0.29777500019127912,",
        " 0.64517916708110457,",
        " 0.1373119974022618,",
        " -0.12606312831468114,",
        " 0.29612228014989456,",
        " 0.08568829784491877,",
        " -0.11602708332524607,",
        " 0.30735554897953105,",
        " 0.39298865961447793,",
        " 0.061695040179296057,",
        " -0.26024171938480811,",
        " 0.38373338257248818,",
        " 0.028999744034001147,",
        " 0.32674356972353519,",
        " 0.53439042144264171,",
        " 0.26328904330354597,",
        " 0.20561572340611634,",
        " -0.18078374748072612,",
        " 0.067549432100730472]"
       ]
      }
     ],
     "prompt_number": 36
    },
    {
     "cell_type": "heading",
     "level": 3,
     "source": [
      "Generalization"
     ]
    },
    {
     "cell_type": "code",
     "collapsed": true,
     "input": [
      "def user_similarity(user1, user2, similarity_function=euclidean_similarity):",
      "    common_movies = common_items(user1, user2)",
      "    return similarity_function(rating_vector(user1, common_movies), rating_vector(user2, common_movies))"
     ],
     "language": "python",
     "outputs": [],
     "prompt_number": 38
    },
    {
     "cell_type": "code",
     "collapsed": true,
     "input": [
      "user_similarity(1, 1, just_pearsonr)"
     ],
     "language": "python",
     "outputs": [
      {
       "output_type": "pyout",
       "prompt_number": 39,
       "text": [
        "1.0"
       ]
      }
     ],
     "prompt_number": 39
    },
    {
     "cell_type": "heading",
     "level": 1,
     "source": [
      "Recommending Items with User Similarity"
     ]
    },
    {
     "cell_type": "heading",
     "level": 3,
     "source": [
      "Most Similar Users"
     ]
    },
    {
     "cell_type": "code",
     "collapsed": true,
     "input": [
      "user = 1",
      "k = 10",
      "similarities = [(other_user, user_similarity_euclidean(user, other_user)) for other_user in ratings_per_user.keys() if other_user != user]",
      "similarities[:k]"
     ],
     "language": "python",
     "outputs": [
      {
       "output_type": "pyout",
       "prompt_number": 40,
       "text": [
        "[(2, 0.16139047779640892),",
        " (3, 0.16396078054371141),",
        " (4, 0.18660549686337075),",
        " (5, 0.075955952793173062),",
        " (6, 0.07284423640594942),",
        " (7, 0.055646560099223488),",
        " (8, 0.15661302882623229),",
        " (9, 0.3090169943749474),",
        " (10, 0.095357673938259974),",
        " (11, 0.084626326089585924)]"
       ]
      }
     ],
     "prompt_number": 40
    },
    {
     "cell_type": "code",
     "collapsed": true,
     "input": [
      "sorted(similarities, lambda x, y: cmp(x[1], y[1]), reverse=True)[:k]"
     ],
     "language": "python",
     "outputs": [
      {
       "output_type": "pyout",
       "prompt_number": 41,
       "text": [
        "[(155, 1.0),",
        " (418, 1.0),",
        " (812, 1.0),",
        " (273, 0.5),",
        " (309, 0.5),",
        " (351, 0.5),",
        " (631, 0.5),",
        " (729, 0.5),",
        " (111, 0.41421356237309509),",
        " (485, 0.41421356237309509)]"
       ]
      }
     ],
     "prompt_number": 41
    },
    {
     "cell_type": "code",
     "collapsed": true,
     "input": [
      "def top_matches(user, similarity_function=euclidean_similarity):",
      "    similarities = [(other_user, user_similarity(user, other_user, similarity_function))",
      "                    for other_user in ratings_per_user.keys()",
      "                    if other_user != user]",
      "    similarities = filter(lambda x: not isnan(x[1]), similarities)",
      "    return sorted(similarities, lambda x, y: cmp(x[1], y[1]), reverse=True)"
     ],
     "language": "python",
     "outputs": [],
     "prompt_number": 42
    },
    {
     "cell_type": "code",
     "collapsed": true,
     "input": [
      "top_matches(1)[:k]"
     ],
     "language": "python",
     "outputs": [
      {
       "output_type": "pyout",
       "prompt_number": 43,
       "text": [
        "[(155, 1.0),",
        " (418, 1.0),",
        " (812, 1.0),",
        " (273, 0.5),",
        " (309, 0.5),",
        " (351, 0.5),",
        " (631, 0.5),",
        " (729, 0.5),",
        " (111, 0.41421356237309509),",
        " (485, 0.41421356237309509)]"
       ]
      }
     ],
     "prompt_number": 43
    },
    {
     "cell_type": "code",
     "collapsed": true,
     "input": [
      "top_matches(1, similarity_function=just_pearsonr)[:k]"
     ],
     "language": "python",
     "outputs": [
      {
       "output_type": "pyout",
       "prompt_number": 44,
       "text": [
        "[(39, 1.0),",
        " (166, 1.0),",
        " (273, 1.0),",
        " (351, 1.0),",
        " (511, 1.0),",
        " (531, 1.0),",
        " (810, 1.0),",
        " (811, 1.0),",
        " (812, 1.0),",
        " (866, 1.0)]"
       ]
      }
     ],
     "prompt_number": 44
    },
    {
     "cell_type": "heading",
     "level": 3,
     "source": [
      "Recommend Items"
     ]
    },
    {
     "cell_type": "code",
     "collapsed": false,
     "input": [
      "def recommend_items(user, similarity_function=euclidean_similarity):",
      "    watched_movies = ratings_per_user[user].keys()",
      "    user_weights = dict(top_matches(user, similarity_function)[:10])",
      "    unwatched_movies = {}",
      "    for user, weight in user_weights.iteritems():",
      "        if weight < 0: continue",
      "        for movie, rating in ratings_per_user[user].iteritems():",
      "            if movie not in watched_movies:",
      "                if not unwatched_movies.has_key(movie): unwatched_movies[movie] = [0, 0]",
      "                unwatched_movies[movie][0] += weight * rating",
      "                unwatched_movies[movie][1] += weight",
      "    if not unwatched_movies: return None",
      "    rated_movies = [(movie, scores[0]/scores[1]) for movie, scores in unwatched_movies.items()]",
      "    return sorted(rated_movies, lambda x, y: cmp(x[1], y[1]), reverse=True)"
     ],
     "language": "python",
     "outputs": [],
     "prompt_number": 45
    },
    {
     "cell_type": "code",
     "collapsed": true,
     "input": [
      "recommend_items(1)[:10]"
     ],
     "language": "python",
     "outputs": [
      {
       "output_type": "pyout",
       "prompt_number": 46,
       "text": [
        "[(1025, 5.0),",
        " (754, 5.0),",
        " (312, 5.0),",
        " (882, 5.0),",
        " (889, 5.0),",
        " (898, 5.0),",
        " (899, 5.0),",
        " (902, 5.0),",
        " (984, 5.0),",
        " (354, 4.5469181606780271)]"
       ]
      }
     ],
     "prompt_number": 46
    },
    {
     "cell_type": "code",
     "collapsed": true,
     "input": [
      "recommend_items(1, similarity_function=just_pearsonr)[:10]"
     ],
     "language": "python",
     "outputs": [
      {
       "output_type": "pyout",
       "prompt_number": 47,
       "text": [
        "[(750, 5.0),",
        " (754, 5.0),",
        " (310, 5.0),",
        " (312, 5.0),",
        " (329, 5.0),",
        " (342, 5.0),",
        " (352, 5.0),",
        " (872, 5.0),",
        " (879, 5.0),",
        " (898, 5.0)]"
       ]
      }
     ],
     "prompt_number": 47
    },
    {
     "cell_type": "heading",
     "level": 1,
     "source": [
      "Evaluation Metrics"
     ]
    },
    {
     "cell_type": "code",
     "collapsed": false,
     "input": [
      "def get_difference_vector(recommendations, test_ratings):",
      "  common_columns = list(set(recommendations.keys()) & set(test_ratings.keys()))",
      "  return [recommendations[i] - test_ratings[i] for i in common_columns]"
     ],
     "language": "python",
     "outputs": [],
     "prompt_number": 48
    },
    {
     "cell_type": "heading",
     "level": 3,
     "source": [
      "Mean Average Error (MAE)"
     ]
    },
    {
     "cell_type": "markdown",
     "source": [
      "$$\\frac{\\sum_{i=0}^n \\left| \\hat{y}_i - y_i \\right| }{n}$$"
     ]
    },
    {
     "cell_type": "code",
     "collapsed": true,
     "input": [
      "def mae(difference_vector):",
      "  return sum([abs(x) for x in difference_vector]) / len(difference_vector)"
     ],
     "language": "python",
     "outputs": [],
     "prompt_number": 49
    },
    {
     "cell_type": "code",
     "collapsed": true,
     "input": [
      "mae([1, 0, -1])"
     ],
     "language": "python",
     "outputs": [
      {
       "output_type": "pyout",
       "prompt_number": 50,
       "text": [
        "0.66666666666666663"
       ]
      }
     ],
     "prompt_number": 50
    },
    {
     "cell_type": "heading",
     "level": 3,
     "source": [
      "Mean Squared Error (MSE)"
     ]
    },
    {
     "cell_type": "markdown",
     "source": [
      "$$\\frac{\\sum_{i=0}^n \\left(\\hat{y}_i - y_i\\right)^2}{n}$$"
     ]
    },
    {
     "cell_type": "code",
     "collapsed": true,
     "input": [
      "def mse(difference_vector):",
      "  return sum([pow(x, 2) for x in difference_vector]) / len(difference_vector)"
     ],
     "language": "python",
     "outputs": [],
     "prompt_number": 51
    },
    {
     "cell_type": "code",
     "collapsed": true,
     "input": [
      "mse([1, 0, -1])"
     ],
     "language": "python",
     "outputs": [
      {
       "output_type": "pyout",
       "prompt_number": 52,
       "text": [
        "0.66666666666666663"
       ]
      }
     ],
     "prompt_number": 52
    },
    {
     "cell_type": "heading",
     "level": 3,
     "source": [
      "Root Mean-Squared Error (RMSE)"
     ]
    },
    {
     "cell_type": "markdown",
     "source": [
      "$$\\sqrt{\\frac{\\sum_{i=0}^n \\left(\\hat{y}_i - y_i\\right)^2}{n}}$$"
     ]
    },
    {
     "cell_type": "code",
     "collapsed": true,
     "input": [
      "def rmse(difference_vector):",
      "  return pow(sum([pow(x, 2) for x in difference_vector]) / len(difference_vector), 0.5)"
     ],
     "language": "python",
     "outputs": [],
     "prompt_number": 53
    },
    {
     "cell_type": "code",
     "collapsed": true,
     "input": [
      "rmse([1, 0, -1])"
     ],
     "language": "python",
     "outputs": [
      {
       "output_type": "pyout",
       "prompt_number": 54,
       "text": [
        "0.81649658092772603"
       ]
      }
     ],
     "prompt_number": 54
    },
    {
     "cell_type": "heading",
     "level": 1,
     "source": [
      "Training Set and Test Set"
     ]
    },
    {
     "cell_type": "heading",
     "level": 3,
     "source": [
      "Sampling from a List"
     ]
    },
    {
     "cell_type": "code",
     "collapsed": true,
     "input": [
      "from random import sample",
      "ratings.ix[sample(ratings.index, 10)]"
     ],
     "language": "python",
     "outputs": [
      {
       "html": [
        "<div style=\"max-height:1000px;max-width:1500px;overflow:auto;\">",
        "<table border=\"1\">",
        "  <thead>",
        "    <tr>",
        "      <th></th>",
        "      <th>user_id</th>",
        "      <th>item_id</th>",
        "      <th>rating</th>",
        "      <th>timestamp</th>",
        "    </tr>",
        "    </thead>",
        "    <tbody>",
        "    <tr>",
        "      <td><strong>7207</strong></td>",
        "      <td> 223</td>",
        "      <td>  369</td>",
        "      <td> 1</td>",
        "      <td> 891550253</td>",
        "    </tr>",
        "    <tr>",
        "      <td><strong>51402</strong></td>",
        "      <td> 408</td>",
        "      <td>  294</td>",
        "      <td> 5</td>",
        "      <td> 889680045</td>",
        "    </tr>",
        "    <tr>",
        "      <td><strong>84045</strong></td>",
        "      <td> 887</td>",
        "      <td>  164</td>",
        "      <td> 4</td>",
        "      <td> 881380139</td>",
        "    </tr>",
        "    <tr>",
        "      <td><strong>77761</strong></td>",
        "      <td>  95</td>",
        "      <td>  855</td>",
        "      <td> 3</td>",
        "      <td> 888954609</td>",
        "    </tr>",
        "    <tr>",
        "      <td><strong>62337</strong></td>",
        "      <td> 518</td>",
        "      <td>  106</td>",
        "      <td> 5</td>",
        "      <td> 876823804</td>",
        "    </tr>",
        "    <tr>",
        "      <td><strong>13628</strong></td>",
        "      <td> 227</td>",
        "      <td> 1008</td>",
        "      <td> 4</td>",
        "      <td> 879036009</td>",
        "    </tr>",
        "    <tr>",
        "      <td><strong>47077</strong></td>",
        "      <td> 386</td>",
        "      <td>  273</td>",
        "      <td> 3</td>",
        "      <td> 877655028</td>",
        "    </tr>",
        "    <tr>",
        "      <td><strong>79169</strong></td>",
        "      <td> 883</td>",
        "      <td>  127</td>",
        "      <td> 5</td>",
        "      <td> 891717319</td>",
        "    </tr>",
        "    <tr>",
        "      <td><strong>77631</strong></td>",
        "      <td> 694</td>",
        "      <td>  163</td>",
        "      <td> 4</td>",
        "      <td> 875729982</td>",
        "    </tr>",
        "    <tr>",
        "      <td><strong>19440</strong></td>",
        "      <td> 318</td>",
        "      <td>  142</td>",
        "      <td> 4</td>",
        "      <td> 884496219</td>",
        "    </tr>",
        "  </tbody>",
        "</table>",
        "",
        "</div>"
       ],
       "output_type": "pyout",
       "prompt_number": 55,
       "text": [
        "       user_id  item_id  rating  timestamp",
        "7207       223      369       1  891550253",
        "51402      408      294       5  889680045",
        "84045      887      164       4  881380139",
        "77761       95      855       3  888954609",
        "62337      518      106       5  876823804",
        "13628      227     1008       4  879036009",
        "47077      386      273       3  877655028",
        "79169      883      127       5  891717319",
        "77631      694      163       4  875729982",
        "19440      318      142       4  884496219"
       ]
      }
     ],
     "prompt_number": 55
    },
    {
     "cell_type": "heading",
     "level": 3,
     "source": [
      "Creating the Training and Test Sets"
     ]
    },
    {
     "cell_type": "code",
     "collapsed": false,
     "input": [
      "nrows = ratings.shape[0]",
      "test_set_size = int(nrows * 0.20)",
      "test_set = ratings.ix[sample(ratings.index, test_set_size)]",
      "training_set = ratings.ix[[i for i in ratings.index if i not in test_set.index]]"
     ],
     "language": "python",
     "outputs": [],
     "prompt_number": 56
    },
    {
     "cell_type": "code",
     "collapsed": true,
     "input": [
      "test_set.shape"
     ],
     "language": "python",
     "outputs": [
      {
       "output_type": "pyout",
       "prompt_number": 57,
       "text": [
        "(20000, 4)"
       ]
      }
     ],
     "prompt_number": 57
    },
    {
     "cell_type": "code",
     "collapsed": true,
     "input": [
      "training_set.shape"
     ],
     "language": "python",
     "outputs": [
      {
       "output_type": "pyout",
       "prompt_number": 58,
       "text": [
        "(80000, 4)"
       ]
      }
     ],
     "prompt_number": 58
    },
    {
     "cell_type": "heading",
     "level": 1,
     "source": [
      "Training"
     ]
    },
    {
     "cell_type": "code",
     "collapsed": true,
     "input": [
      "ratings_per_user = {}",
      "for user_id, group in training_set.groupby(\"user_id\"):",
      "    ratings_per_user[user_id] = dict(zip(group[\"item_id\"], group[\"rating\"]))"
     ],
     "language": "python",
     "outputs": [],
     "prompt_number": 59
    },
    {
     "cell_type": "heading",
     "level": 3,
     "source": [
      "Recommended Items with Euclidean Similarity"
     ]
    },
    {
     "cell_type": "code",
     "collapsed": true,
     "input": [
      "recommended_items_euclidean = {}",
      "for user_id in ratings_per_user.keys():",
      "    recommended_items_euclidean[user_id] = recommend_items(user_id)"
     ],
     "language": "python",
     "outputs": [],
     "prompt_number": 60
    },
    {
     "cell_type": "heading",
     "level": 3,
     "source": [
      "Recommended Items with Pearson Correlation"
     ]
    },
    {
     "cell_type": "code",
     "collapsed": false,
     "input": [
      "recommended_items_pearson = {}",
      "for user_id in ratings_per_user.keys():",
      "    recommended_items_pearson[user_id] = recommend_items(user_id, similarity_function=just_pearsonr)"
     ],
     "language": "python",
     "outputs": [],
     "prompt_number": 61
    },
    {
     "cell_type": "heading",
     "level": 1,
     "source": [
      "Evaluating"
     ]
    },
    {
     "cell_type": "code",
     "collapsed": true,
     "input": [
      "def get_test_ratings(user, test_set):",
      "    user_ratings = test_set[test_set[\"user_id\"] == user]",
      "    return dict(zip(user_ratings[\"item_id\"], user_ratings[\"rating\"]))"
     ],
     "language": "python",
     "outputs": [],
     "prompt_number": 62
    },
    {
     "cell_type": "code",
     "collapsed": true,
     "input": [
      "[get_difference_vector(dict(recommended_items_euclidean[i]), get_test_ratings(i, test_set)) for i in recommended_items_euclidean.keys()[:10]]"
     ],
     "language": "python",
     "outputs": [
      {
       "output_type": "pyout",
       "prompt_number": 64,
       "text": [
        "[[2.0, 1.0],",
        " [-0.5, -0.33333333333333348, 1.0, -4.0],",
        " [],",
        " [-0.5, 0.0, -0.42857142857142883, -1.0, -2.0],",
        " [3.0, -2.0],",
        " [2.0, -2.0],",
        " [1.0, -0.33333333333333348, 2.2857142857142856, 1.3333333333333335, 0.5],",
        " [0.0, 3.0, 0.0],",
        " [-1.0, 0.0, 1.0],",
        " [0.0, -1.0, -0.16666666666666652, -0.5, -2.0, 1.0, 0.0, -1.0, 0.0, 1.0]]"
       ]
      }
     ],
     "prompt_number": 64
    },
    {
     "cell_type": "code",
     "collapsed": false,
     "input": [
      "euclidean_difference_vectors = filter(lambda x: x, [get_difference_vector(dict(recommended_items_euclidean[i]), get_test_ratings(i, test_set)) for i in recommended_items_euclidean.keys()])"
     ],
     "language": "python",
     "outputs": [],
     "prompt_number": 65
    },
    {
     "cell_type": "code",
     "collapsed": true,
     "input": [
      "pearson_difference_vectors = filter(lambda x: x, [get_difference_vector(dict(recommended_items_pearson[i]), get_test_ratings(i, test_set)) for i in recommended_items_pearson.keys()])"
     ],
     "language": "python",
     "outputs": [],
     "prompt_number": 66
    },
    {
     "cell_type": "code",
     "collapsed": true,
     "input": [
      "rmses = [rmse(x) for x in euclidean_difference_vectors]",
      "sum(rmses)/len(rmses)"
     ],
     "language": "python",
     "outputs": [
      {
       "output_type": "pyout",
       "prompt_number": 67,
       "text": [
        "1.1926510762276863"
       ]
      }
     ],
     "prompt_number": 67
    },
    {
     "cell_type": "code",
     "collapsed": true,
     "input": [
      "rmses = [rmse(x) for x in pearson_difference_vectors]",
      "sum(rmses)/len(rmses)"
     ],
     "language": "python",
     "outputs": [
      {
       "output_type": "pyout",
       "prompt_number": 68,
       "text": [
        "1.2439724275457402"
       ]
      }
     ],
     "prompt_number": 68
    }
   ]
  }
 ]
}